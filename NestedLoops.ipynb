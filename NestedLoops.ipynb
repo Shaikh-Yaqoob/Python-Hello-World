{
 "cells": [
  {
   "cell_type": "code",
   "execution_count": 1,
   "id": "aba82639-5eb8-4ac4-82e5-0bdd946d3c2d",
   "metadata": {},
   "outputs": [
    {
     "name": "stdout",
     "output_type": "stream",
     "text": [
      "1 2 3 4 5 \n",
      "1 2 3 4 5 \n",
      "1 2 3 4 5 \n",
      "1 2 3 4 5 \n",
      "1 2 3 4 5 \n"
     ]
    }
   ],
   "source": [
    "for i in range(5):\n",
    "    for j in range(1, 6):\n",
    "        print(j, end=\" \")\n",
    "    print()\n"
   ]
  },
  {
   "cell_type": "code",
   "execution_count": 2,
   "id": "274a2a5c-3133-48d0-9135-ed6caf61cc38",
   "metadata": {},
   "outputs": [
    {
     "name": "stdout",
     "output_type": "stream",
     "text": [
      "1 2 3 4 5 \n",
      "2 4 6 8 10 \n",
      "3 6 9 12 15 \n",
      "4 8 12 16 20 \n",
      "5 10 15 20 25 \n"
     ]
    }
   ],
   "source": [
    "for i in range(1, 6):\n",
    "    for j in range(1, 6):\n",
    "        print(i * j, end=\" \")\n",
    "    print()\n"
   ]
  },
  {
   "cell_type": "code",
   "execution_count": 3,
   "id": "d773cc6c-990f-4269-aa09-e451e0e6d4d9",
   "metadata": {},
   "outputs": [
    {
     "name": "stdout",
     "output_type": "stream",
     "text": [
      "1 \n",
      "1 2 \n",
      "1 2 3 \n",
      "1 2 3 4 \n",
      "1 2 3 4 5 \n"
     ]
    }
   ],
   "source": [
    "for i in range(1, 6):\n",
    "    for j in range(1, i + 1):\n",
    "        print(j, end=\" \")\n",
    "    print()\n"
   ]
  },
  {
   "cell_type": "code",
   "execution_count": 4,
   "id": "2e345d3b-593b-4de8-b2f4-dd25b02ef4b8",
   "metadata": {},
   "outputs": [
    {
     "name": "stdout",
     "output_type": "stream",
     "text": [
      "* \n",
      "* * \n",
      "* * * \n",
      "* * * * \n",
      "* * * * * \n"
     ]
    }
   ],
   "source": [
    "for i in range(1, 6):\n",
    "    for j in range(i):\n",
    "        print(\"*\", end=\" \")\n",
    "    print()\n"
   ]
  },
  {
   "cell_type": "code",
   "execution_count": 5,
   "id": "c0c3548a-ce75-4131-b3e5-6c7e6608743b",
   "metadata": {},
   "outputs": [
    {
     "name": "stdout",
     "output_type": "stream",
     "text": [
      "1 2 3 4 5 \n",
      "2 3 4 5 \n",
      "3 4 5 \n",
      "4 5 \n",
      "5 \n"
     ]
    }
   ],
   "source": [
    "for i in range(1, 6):\n",
    "    for j in range(i, 6):\n",
    "        print(j, end=\" \")\n",
    "    print()\n"
   ]
  },
  {
   "cell_type": "code",
   "execution_count": 6,
   "id": "f668d12a-e4c8-49b6-8447-b38e32522541",
   "metadata": {},
   "outputs": [
    {
     "name": "stdout",
     "output_type": "stream",
     "text": [
      "* * * * * \n",
      "* * * * \n",
      "* * * \n",
      "* * \n",
      "* \n"
     ]
    }
   ],
   "source": [
    "for i in range(5, 0, -1):\n",
    "    for j in range(i):\n",
    "        print(\"*\", end=\" \")\n",
    "    print()\n"
   ]
  },
  {
   "cell_type": "code",
   "execution_count": 9,
   "id": "87bbf4c5-7e60-4520-9438-9d6468b56c2f",
   "metadata": {},
   "outputs": [
    {
     "name": "stdin",
     "output_type": "stream",
     "text": [
      "Enter the total number of students:  2\n",
      "Enter the number of test scores per student:  5\n"
     ]
    },
    {
     "name": "stdout",
     "output_type": "stream",
     "text": [
      "\n",
      "Enter test scores for student 1:\n"
     ]
    },
    {
     "name": "stdin",
     "output_type": "stream",
     "text": [
      "Enter test score 1:  13\n",
      "Enter test score 2:  34\n",
      "Enter test score 3:  23\n",
      "Enter test score 4:  23\n",
      "Enter test score 5:  43\n"
     ]
    },
    {
     "name": "stdout",
     "output_type": "stream",
     "text": [
      "Average test score for student 1: 27.20\n",
      "\n",
      "Enter test scores for student 2:\n"
     ]
    },
    {
     "name": "stdin",
     "output_type": "stream",
     "text": [
      "Enter test score 1:  32\n",
      "Enter test score 2:  32\n",
      "Enter test score 3:  43\n",
      "Enter test score 4:  23\n",
      "Enter test score 5:  23\n"
     ]
    },
    {
     "name": "stdout",
     "output_type": "stream",
     "text": [
      "Average test score for student 2: 30.60\n",
      "\n",
      "Overall average test score: 28.90\n"
     ]
    }
   ],
   "source": [
    "# Ask the user for the total number of students\n",
    "num_students = int(input(\"Enter the total number of students: \"))\n",
    "\n",
    "# Ask the user for the number of test scores per student\n",
    "num_scores = int(input(\"Enter the number of test scores per student: \"))\n",
    "\n",
    "# Initialize a variable to store the total sum of test scores\n",
    "total_sum = 0\n",
    "\n",
    "# Iterate over each student\n",
    "for i in range(1, num_students + 1):\n",
    "    print(f\"\\nEnter test scores for student {i}:\")\n",
    "    student_sum = 0  # Initialize sum of scores for each student\n",
    "    # Iterate over each test score for the current student\n",
    "    for j in range(1, num_scores + 1):\n",
    "        score = float(input(f\"Enter test score {j}: \"))\n",
    "        student_sum += score  # Add score to student's sum\n",
    "    # Calculate and display the average test score for the current student\n",
    "    average_score = student_sum / num_scores\n",
    "    print(f\"Average test score for student {i}: {average_score:.2f}\")\n",
    "    total_sum += student_sum  # Add student's sum to total sum\n",
    "\n",
    "# Calculate and display the overall average test score\n",
    "overall_average = total_sum / (num_students * num_scores)\n",
    "print(f\"\\nOverall average test score: {overall_average:.2f}\")\n"
   ]
  },
  {
   "cell_type": "code",
   "execution_count": 10,
   "id": "6e9514cf-fea5-40fa-bf81-31084515f217",
   "metadata": {},
   "outputs": [
    {
     "name": "stdout",
     "output_type": "stream",
     "text": [
      "Testing functions from a. and b.\n",
      "Subtraction: 5\n",
      "Multiplication: 50\n",
      "Division: 2.0\n",
      "Modulus: 0\n",
      "\n",
      "Testing Square function:\n",
      "Square of 5: 25\n",
      "\n",
      "Testing greater_value function:\n",
      "Greater value between 10 and 15: 15\n",
      "\n",
      "Testing calculate_percentage function:\n",
      "Percentage: 85.0\n",
      "\n",
      "Testing sum_positive_integers function:\n"
     ]
    },
    {
     "name": "stdin",
     "output_type": "stream",
     "text": [
      "Enter the range up to which you want to find the sum:  2\n"
     ]
    },
    {
     "name": "stdout",
     "output_type": "stream",
     "text": [
      "The sum of all positive integers is 3\n"
     ]
    }
   ],
   "source": [
    "# a.\n",
    "def subtract(x, y):\n",
    "    return x - y\n",
    "\n",
    "def multiply(x, y):\n",
    "    return x * y\n",
    "\n",
    "def divide(x, y):\n",
    "    if y == 0:\n",
    "        return \"Error! Division by zero.\"\n",
    "    else:\n",
    "        return x / y\n",
    "\n",
    "def modulus(x, y):\n",
    "    return x % y\n",
    "\n",
    "# b.\n",
    "def test_functions():\n",
    "    a = 10\n",
    "    b = 5\n",
    "    print(\"Subtraction:\", subtract(a, b))\n",
    "    print(\"Multiplication:\", multiply(a, b))\n",
    "    print(\"Division:\", divide(a, b))\n",
    "    print(\"Modulus:\", modulus(a, b))\n",
    "\n",
    "# c.\n",
    "def square(x):\n",
    "    return x ** 2\n",
    "\n",
    "def greater_value(x, y):\n",
    "    return max(x, y)\n",
    "\n",
    "# d.\n",
    "def calculate_percentage(obtained_marks, total_marks):\n",
    "    return (obtained_marks / total_marks) * 100\n",
    "\n",
    "# e.\n",
    "def sum_positive_integers(max_num):\n",
    "    return sum(range(1, max_num + 1))\n",
    "\n",
    "# Testing the functions\n",
    "print(\"Testing functions from a. and b.\")\n",
    "test_functions()\n",
    "\n",
    "print(\"\\nTesting Square function:\")\n",
    "print(\"Square of 5:\", square(5))\n",
    "\n",
    "print(\"\\nTesting greater_value function:\")\n",
    "print(\"Greater value between 10 and 15:\", greater_value(10, 15))\n",
    "\n",
    "print(\"\\nTesting calculate_percentage function:\")\n",
    "obtained_marks = 85\n",
    "total_marks = 100\n",
    "print(\"Percentage:\", calculate_percentage(obtained_marks, total_marks))\n",
    "\n",
    "print(\"\\nTesting sum_positive_integers function:\")\n",
    "max_num = int(input(\"Enter the range up to which you want to find the sum: \"))\n",
    "print(\"The sum of all positive integers is\", sum_positive_integers(max_num))\n"
   ]
  },
  {
   "cell_type": "code",
   "execution_count": 11,
   "id": "af273307-a458-4984-9c24-34c2ef98eda5",
   "metadata": {},
   "outputs": [
    {
     "name": "stdout",
     "output_type": "stream",
     "text": [
      "Total number of even values: 4\n",
      "Total number of even values: 4\n",
      "Total number of odd values: 5\n",
      "Sum of all elements of the given 2D list: 45\n",
      "Sum of Diagonal elements of the given 2D list: 15\n"
     ]
    }
   ],
   "source": [
    "# a.\n",
    "def count_even_values(lst):\n",
    "    count = 0\n",
    "    for num in lst:\n",
    "        if num % 2 == 0:\n",
    "            count += 1\n",
    "    return count\n",
    "\n",
    "# b.\n",
    "def count_even_odd_values(lst):\n",
    "    even_count = 0\n",
    "    odd_count = 0\n",
    "    for num in lst:\n",
    "        if num % 2 == 0:\n",
    "            even_count += 1\n",
    "        else:\n",
    "            odd_count += 1\n",
    "    return even_count, odd_count\n",
    "\n",
    "# c.\n",
    "def sum_of_matrix_elements(matrix):\n",
    "    total_sum = 0\n",
    "    for row in matrix:\n",
    "        total_sum += sum(row)\n",
    "    return total_sum\n",
    "\n",
    "# d.\n",
    "def sum_of_matrix_diagonal_elements(matrix):\n",
    "    n = len(matrix)\n",
    "    diagonal_sum = 0\n",
    "    for i in range(n):\n",
    "        diagonal_sum += matrix[i][i]\n",
    "    return diagonal_sum\n",
    "\n",
    "# Test data for c. and d.\n",
    "matrix = [\n",
    "    [1, 2, 3],\n",
    "    [4, 5, 6],\n",
    "    [7, 8, 9]\n",
    "]\n",
    "\n",
    "# Test the functions\n",
    "print(\"Total number of even values:\", count_even_values([1, 2, 3, 4, 5, 6, 7, 8, 9]))\n",
    "even_count, odd_count = count_even_odd_values([1, 2, 3, 4, 5, 6, 7, 8, 9])\n",
    "print(\"Total number of even values:\", even_count)\n",
    "print(\"Total number of odd values:\", odd_count)\n",
    "\n",
    "print(\"Sum of all elements of the given 2D list:\", sum_of_matrix_elements(matrix))\n",
    "\n",
    "print(\"Sum of Diagonal elements of the given 2D list:\", sum_of_matrix_diagonal_elements(matrix))\n"
   ]
  },
  {
   "cell_type": "code",
   "execution_count": null,
   "id": "ffddfa54-9d70-4277-8b71-ea23b3ee0a68",
   "metadata": {},
   "outputs": [],
   "source": []
  }
 ],
 "metadata": {
  "kernelspec": {
   "display_name": "Python 3 (ipykernel)",
   "language": "python",
   "name": "python3"
  },
  "language_info": {
   "codemirror_mode": {
    "name": "ipython",
    "version": 3
   },
   "file_extension": ".py",
   "mimetype": "text/x-python",
   "name": "python",
   "nbconvert_exporter": "python",
   "pygments_lexer": "ipython3",
   "version": "3.11.7"
  }
 },
 "nbformat": 4,
 "nbformat_minor": 5
}
