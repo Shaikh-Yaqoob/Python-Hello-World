{
 "cells": [
  {
   "cell_type": "code",
   "execution_count": 2,
   "id": "41df258d-f9f6-4d71-8164-b024230cd1ec",
   "metadata": {},
   "outputs": [
    {
     "name": "stdout",
     "output_type": "stream",
     "text": [
      "torch is installed.\n",
      "torchvision is installed.\n",
      "torchaudio is installed.\n"
     ]
    }
   ],
   "source": [
    "import importlib.util\n",
    "\n",
    "def check_module(module_name):\n",
    "    spec = importlib.util.find_spec(module_name)\n",
    "    if spec is None:\n",
    "        print(f\"{module_name} is not installed.\")\n",
    "    else:\n",
    "        print(f\"{module_name} is installed.\")\n",
    "\n",
    "# Usage example:\n",
    "check_module(\"torch\")\n",
    "check_module(\"torchvision\")\n",
    "check_module(\"torchaudio\")\n"
   ]
  }
 ],
 "metadata": {
  "kernelspec": {
   "display_name": "Python 3 (ipykernel)",
   "language": "python",
   "name": "python3"
  },
  "language_info": {
   "codemirror_mode": {
    "name": "ipython",
    "version": 3
   },
   "file_extension": ".py",
   "mimetype": "text/x-python",
   "name": "python",
   "nbconvert_exporter": "python",
   "pygments_lexer": "ipython3",
   "version": "3.11.7"
  }
 },
 "nbformat": 4,
 "nbformat_minor": 5
}
