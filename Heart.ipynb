{
 "cells": [
  {
   "cell_type": "code",
   "execution_count": 23,
   "id": "4ceaa8da",
   "metadata": {},
   "outputs": [],
   "source": [
    "from turtle import *"
   ]
  },
  {
   "cell_type": "code",
   "execution_count": 24,
   "id": "175bfc2c",
   "metadata": {},
   "outputs": [],
   "source": [
    "bgcolor(\"black\")\n",
    "color(\"red\")\n",
    "title(\"StudyMuch\")\n",
    "begin_fill()\n",
    "pensize(3)\n",
    "left(50)\n",
    "forward(133)\n",
    "circle(50,200)\n",
    "right(140)\n",
    "circle(50,200)\n",
    "forward(133)\n",
    "end_fill()\n",
    "\n",
    "penup()\n",
    "goto(0,-50)\n",
    "pendown()\n",
    "color(\"red\")\n",
    "write(\"I Love You\",align=\"center\",\n",
    "      font=(\"Brush Script TM\",45, \"normal\"))\n",
    "hideturtle()\n",
    "done()"
   ]
  }
 ],
 "metadata": {
  "kernelspec": {
   "display_name": "Python 3 (ipykernel)",
   "language": "python",
   "name": "python3"
  },
  "language_info": {
   "codemirror_mode": {
    "name": "ipython",
    "version": 3
   },
   "file_extension": ".py",
   "mimetype": "text/x-python",
   "name": "python",
   "nbconvert_exporter": "python",
   "pygments_lexer": "ipython3",
   "version": "3.11.4"
  }
 },
 "nbformat": 4,
 "nbformat_minor": 5
}
