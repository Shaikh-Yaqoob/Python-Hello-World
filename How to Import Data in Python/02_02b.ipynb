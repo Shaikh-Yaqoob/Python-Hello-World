{
 "cells": [
  {
   "cell_type": "markdown",
   "metadata": {},
   "source": [
    "# How to Import Data in Python"
   ]
  },
  {
   "cell_type": "markdown",
   "metadata": {},
   "source": [
    "## Learning Objectives\n",
    "One of the reasons why Python is such a popular programming language for machine learning is because it supports some very powerful and easy to use packages which are purpose-built for data analysis. One of these packages is the **pandas** package. In this exercise, you will get a brief introduction to the pandas package and how to import data using functions provided by the pandas package. By the end of this tutorial, you will have learned:\n",
    "\n",
    "+ what a pandas Series is\n",
    "+ what a pandas DataFrame is\n",
    "+ how to import data from a CSV file\n",
    "+ how to import data from an Excel file"
   ]
  },
  {
   "cell_type": "markdown",
   "metadata": {
    "colab_type": "text",
    "id": "rgzeumtubBxE"
   },
   "source": [
    "## The pandas Package"
   ]
  },
  {
   "cell_type": "code",
   "execution_count": 4,
   "metadata": {
    "colab": {},
    "colab_type": "code",
    "id": "i8NQe2iYbBxK"
   },
   "outputs": [],
   "source": [
    "import pandas as pd"
   ]
  },
  {
   "cell_type": "markdown",
   "metadata": {},
   "source": [
    "## The pandas Series"
   ]
  },
  {
   "cell_type": "code",
   "execution_count": 6,
   "metadata": {},
   "outputs": [
    {
     "data": {
      "text/plain": [
       "0          Brazil\n",
       "1          Russia\n",
       "2           India\n",
       "3           China\n",
       "4    South Africa\n",
       "dtype: object"
      ]
     },
     "execution_count": 6,
     "metadata": {},
     "output_type": "execute_result"
    }
   ],
   "source": [
    "members = [\"Brazil\", \"Russia\", \"India\", \"China\", \"South Africa\"]\n",
    "brics1 = pd.Series(members)\n",
    "brics1"
   ]
  },
  {
   "cell_type": "code",
   "execution_count": 7,
   "metadata": {},
   "outputs": [
    {
     "data": {
      "text/plain": [
       "pandas.core.series.Series"
      ]
     },
     "execution_count": 7,
     "metadata": {},
     "output_type": "execute_result"
    }
   ],
   "source": [
    "type(brics1)"
   ]
  },
  {
   "cell_type": "markdown",
   "metadata": {},
   "source": [
    "## The pandas DataFrame"
   ]
  },
  {
   "cell_type": "code",
   "execution_count": 8,
   "metadata": {
    "colab": {},
    "colab_type": "code",
    "id": "Nzcoz81tbByT"
   },
   "outputs": [
    {
     "data": {
      "text/html": [
       "<div>\n",
       "<style scoped>\n",
       "    .dataframe tbody tr th:only-of-type {\n",
       "        vertical-align: middle;\n",
       "    }\n",
       "\n",
       "    .dataframe tbody tr th {\n",
       "        vertical-align: top;\n",
       "    }\n",
       "\n",
       "    .dataframe thead th {\n",
       "        text-align: right;\n",
       "    }\n",
       "</style>\n",
       "<table border=\"1\" class=\"dataframe\">\n",
       "  <thead>\n",
       "    <tr style=\"text-align: right;\">\n",
       "      <th></th>\n",
       "      <th>country</th>\n",
       "      <th>capital</th>\n",
       "      <th>gdp</th>\n",
       "      <th>literacy</th>\n",
       "      <th>expectancy</th>\n",
       "      <th>population</th>\n",
       "    </tr>\n",
       "  </thead>\n",
       "  <tbody>\n",
       "    <tr>\n",
       "      <th>0</th>\n",
       "      <td>Brazil</td>\n",
       "      <td>Brasilia</td>\n",
       "      <td>2750</td>\n",
       "      <td>0.944</td>\n",
       "      <td>76.8</td>\n",
       "      <td>210.87</td>\n",
       "    </tr>\n",
       "    <tr>\n",
       "      <th>1</th>\n",
       "      <td>Russia</td>\n",
       "      <td>Moscow</td>\n",
       "      <td>1658</td>\n",
       "      <td>0.997</td>\n",
       "      <td>72.7</td>\n",
       "      <td>143.96</td>\n",
       "    </tr>\n",
       "    <tr>\n",
       "      <th>2</th>\n",
       "      <td>India</td>\n",
       "      <td>New Delhi</td>\n",
       "      <td>3202</td>\n",
       "      <td>0.721</td>\n",
       "      <td>68.8</td>\n",
       "      <td>1367.09</td>\n",
       "    </tr>\n",
       "    <tr>\n",
       "      <th>3</th>\n",
       "      <td>China</td>\n",
       "      <td>Beijing</td>\n",
       "      <td>15270</td>\n",
       "      <td>0.964</td>\n",
       "      <td>76.4</td>\n",
       "      <td>1415.05</td>\n",
       "    </tr>\n",
       "    <tr>\n",
       "      <th>4</th>\n",
       "      <td>South Africa</td>\n",
       "      <td>Pretoria</td>\n",
       "      <td>370</td>\n",
       "      <td>0.943</td>\n",
       "      <td>63.6</td>\n",
       "      <td>57.40</td>\n",
       "    </tr>\n",
       "  </tbody>\n",
       "</table>\n",
       "</div>"
      ],
      "text/plain": [
       "        country    capital    gdp  literacy  expectancy  population\n",
       "0        Brazil   Brasilia   2750     0.944        76.8      210.87\n",
       "1        Russia     Moscow   1658     0.997        72.7      143.96\n",
       "2         India  New Delhi   3202     0.721        68.8     1367.09\n",
       "3         China    Beijing  15270     0.964        76.4     1415.05\n",
       "4  South Africa   Pretoria    370     0.943        63.6       57.40"
      ]
     },
     "execution_count": 8,
     "metadata": {},
     "output_type": "execute_result"
    }
   ],
   "source": [
    "members = {\"country\": [\"Brazil\", \"Russia\", \"India\", \"China\", \"South Africa\"],\n",
    "        \"capital\": [\"Brasilia\", \"Moscow\", \"New Delhi\", \"Beijing\", \"Pretoria\"],\n",
    "        \"gdp\": [2750, 1658, 3202, 15270, 370],\n",
    "        \"literacy\":[.944, .997, .721, .964, .943],\n",
    "        \"expectancy\": [76.8, 72.7, 68.8, 76.4, 63.6],\n",
    "        \"population\": [210.87, 143.96, 1367.09, 1415.05, 57.4]}\n",
    "brics2 = pd.DataFrame(members)\n",
    "brics2"
   ]
  },
  {
   "cell_type": "code",
   "execution_count": 9,
   "metadata": {
    "scrolled": true
   },
   "outputs": [
    {
     "data": {
      "text/plain": [
       "pandas.core.frame.DataFrame"
      ]
     },
     "execution_count": 9,
     "metadata": {},
     "output_type": "execute_result"
    }
   ],
   "source": [
    "type(brics2)"
   ]
  },
  {
   "cell_type": "code",
   "execution_count": 10,
   "metadata": {},
   "outputs": [
    {
     "data": {
      "text/html": [
       "<div>\n",
       "<style scoped>\n",
       "    .dataframe tbody tr th:only-of-type {\n",
       "        vertical-align: middle;\n",
       "    }\n",
       "\n",
       "    .dataframe tbody tr th {\n",
       "        vertical-align: top;\n",
       "    }\n",
       "\n",
       "    .dataframe thead th {\n",
       "        text-align: right;\n",
       "    }\n",
       "</style>\n",
       "<table border=\"1\" class=\"dataframe\">\n",
       "  <thead>\n",
       "    <tr style=\"text-align: right;\">\n",
       "      <th></th>\n",
       "      <th>country</th>\n",
       "      <th>capital</th>\n",
       "      <th>gdp</th>\n",
       "      <th>literacy</th>\n",
       "      <th>expectancy</th>\n",
       "      <th>population</th>\n",
       "    </tr>\n",
       "  </thead>\n",
       "  <tbody>\n",
       "    <tr>\n",
       "      <th>0</th>\n",
       "      <td>Brazil</td>\n",
       "      <td>Brasilia</td>\n",
       "      <td>2750</td>\n",
       "      <td>0.944</td>\n",
       "      <td>76.8</td>\n",
       "      <td>210.87</td>\n",
       "    </tr>\n",
       "    <tr>\n",
       "      <th>1</th>\n",
       "      <td>Russia</td>\n",
       "      <td>Moscow</td>\n",
       "      <td>1658</td>\n",
       "      <td>0.997</td>\n",
       "      <td>72.7</td>\n",
       "      <td>143.96</td>\n",
       "    </tr>\n",
       "    <tr>\n",
       "      <th>2</th>\n",
       "      <td>India</td>\n",
       "      <td>New Delhi</td>\n",
       "      <td>3202</td>\n",
       "      <td>0.721</td>\n",
       "      <td>68.8</td>\n",
       "      <td>1367.09</td>\n",
       "    </tr>\n",
       "    <tr>\n",
       "      <th>3</th>\n",
       "      <td>China</td>\n",
       "      <td>Beijing</td>\n",
       "      <td>15270</td>\n",
       "      <td>0.964</td>\n",
       "      <td>76.4</td>\n",
       "      <td>1415.05</td>\n",
       "    </tr>\n",
       "    <tr>\n",
       "      <th>4</th>\n",
       "      <td>South Africa</td>\n",
       "      <td>Pretoria</td>\n",
       "      <td>370</td>\n",
       "      <td>0.943</td>\n",
       "      <td>63.6</td>\n",
       "      <td>57.40</td>\n",
       "    </tr>\n",
       "  </tbody>\n",
       "</table>\n",
       "</div>"
      ],
      "text/plain": [
       "        country    capital    gdp  literacy  expectancy  population\n",
       "0        Brazil   Brasilia   2750     0.944        76.8      210.87\n",
       "1        Russia     Moscow   1658     0.997        72.7      143.96\n",
       "2         India  New Delhi   3202     0.721        68.8     1367.09\n",
       "3         China    Beijing  15270     0.964        76.4     1415.05\n",
       "4  South Africa   Pretoria    370     0.943        63.6       57.40"
      ]
     },
     "execution_count": 10,
     "metadata": {},
     "output_type": "execute_result"
    }
   ],
   "source": [
    "members = [[\"Brazil\", \"Brasilia\", 2750, 0.944, 76.8, 210.87],\n",
    "                     [\"Russia\", \"Moscow\", 1658, 0.997, 72.7, 143.96],\n",
    "                     [\"India\", \"New Delhi\", 3202, 0.721, 68.8, 1367.09],\n",
    "                     [\"China\", \"Beijing\", 15270, 0.964, 76.4, 1415.05],\n",
    "                     [\"South Africa\", \"Pretoria\", 370, 0.943, 63.6, 57.4]]\n",
    "labels = [\"country\", \"capital\", \"gdp\", \"literacy\", \"expectancy\", \"population\"]\n",
    "brics3 = pd.DataFrame(members, columns = labels)\n",
    "brics3"
   ]
  },
  {
   "cell_type": "markdown",
   "metadata": {},
   "source": [
    "## How to import data from a CSV file"
   ]
  },
  {
   "cell_type": "code",
   "execution_count": 11,
   "metadata": {},
   "outputs": [
    {
     "data": {
      "text/html": [
       "<div>\n",
       "<style scoped>\n",
       "    .dataframe tbody tr th:only-of-type {\n",
       "        vertical-align: middle;\n",
       "    }\n",
       "\n",
       "    .dataframe tbody tr th {\n",
       "        vertical-align: top;\n",
       "    }\n",
       "\n",
       "    .dataframe thead th {\n",
       "        text-align: right;\n",
       "    }\n",
       "</style>\n",
       "<table border=\"1\" class=\"dataframe\">\n",
       "  <thead>\n",
       "    <tr style=\"text-align: right;\">\n",
       "      <th></th>\n",
       "      <th>country</th>\n",
       "      <th>capital</th>\n",
       "      <th>gdp</th>\n",
       "      <th>literacy</th>\n",
       "      <th>expectancy</th>\n",
       "      <th>population</th>\n",
       "    </tr>\n",
       "  </thead>\n",
       "  <tbody>\n",
       "    <tr>\n",
       "      <th>0</th>\n",
       "      <td>Brazil</td>\n",
       "      <td>Brasilia</td>\n",
       "      <td>2750</td>\n",
       "      <td>0.944</td>\n",
       "      <td>76.8</td>\n",
       "      <td>210.87</td>\n",
       "    </tr>\n",
       "    <tr>\n",
       "      <th>1</th>\n",
       "      <td>Russia</td>\n",
       "      <td>Moscow</td>\n",
       "      <td>1658</td>\n",
       "      <td>0.997</td>\n",
       "      <td>72.7</td>\n",
       "      <td>143.96</td>\n",
       "    </tr>\n",
       "    <tr>\n",
       "      <th>2</th>\n",
       "      <td>India</td>\n",
       "      <td>New Delhi</td>\n",
       "      <td>3202</td>\n",
       "      <td>0.721</td>\n",
       "      <td>68.8</td>\n",
       "      <td>1367.09</td>\n",
       "    </tr>\n",
       "    <tr>\n",
       "      <th>3</th>\n",
       "      <td>China</td>\n",
       "      <td>Beijing</td>\n",
       "      <td>15270</td>\n",
       "      <td>0.964</td>\n",
       "      <td>76.4</td>\n",
       "      <td>1415.05</td>\n",
       "    </tr>\n",
       "    <tr>\n",
       "      <th>4</th>\n",
       "      <td>South Africa</td>\n",
       "      <td>Pretoria</td>\n",
       "      <td>370</td>\n",
       "      <td>0.943</td>\n",
       "      <td>63.6</td>\n",
       "      <td>57.40</td>\n",
       "    </tr>\n",
       "  </tbody>\n",
       "</table>\n",
       "</div>"
      ],
      "text/plain": [
       "        country    capital    gdp  literacy  expectancy  population\n",
       "0        Brazil   Brasilia   2750     0.944        76.8      210.87\n",
       "1        Russia     Moscow   1658     0.997        72.7      143.96\n",
       "2         India  New Delhi   3202     0.721        68.8     1367.09\n",
       "3         China    Beijing  15270     0.964        76.4     1415.05\n",
       "4  South Africa   Pretoria    370     0.943        63.6       57.40"
      ]
     },
     "execution_count": 11,
     "metadata": {},
     "output_type": "execute_result"
    }
   ],
   "source": [
    "brics4 = pd.read_csv(\"brics.csv\")\n",
    "brics4"
   ]
  },
  {
   "cell_type": "markdown",
   "metadata": {},
   "source": [
    "## How to import data from an Excel file"
   ]
  },
  {
   "cell_type": "code",
   "execution_count": 12,
   "metadata": {},
   "outputs": [
    {
     "data": {
      "text/html": [
       "<div>\n",
       "<style scoped>\n",
       "    .dataframe tbody tr th:only-of-type {\n",
       "        vertical-align: middle;\n",
       "    }\n",
       "\n",
       "    .dataframe tbody tr th {\n",
       "        vertical-align: top;\n",
       "    }\n",
       "\n",
       "    .dataframe thead th {\n",
       "        text-align: right;\n",
       "    }\n",
       "</style>\n",
       "<table border=\"1\" class=\"dataframe\">\n",
       "  <thead>\n",
       "    <tr style=\"text-align: right;\">\n",
       "      <th></th>\n",
       "      <th>country</th>\n",
       "      <th>capital</th>\n",
       "      <th>gdp</th>\n",
       "      <th>literacy</th>\n",
       "      <th>expectancy</th>\n",
       "      <th>population</th>\n",
       "    </tr>\n",
       "  </thead>\n",
       "  <tbody>\n",
       "    <tr>\n",
       "      <th>0</th>\n",
       "      <td>Brazil</td>\n",
       "      <td>Brasilia</td>\n",
       "      <td>2750</td>\n",
       "      <td>0.944</td>\n",
       "      <td>76.8</td>\n",
       "      <td>210.87</td>\n",
       "    </tr>\n",
       "    <tr>\n",
       "      <th>1</th>\n",
       "      <td>Russia</td>\n",
       "      <td>Moscow</td>\n",
       "      <td>1658</td>\n",
       "      <td>0.997</td>\n",
       "      <td>72.7</td>\n",
       "      <td>143.96</td>\n",
       "    </tr>\n",
       "    <tr>\n",
       "      <th>2</th>\n",
       "      <td>India</td>\n",
       "      <td>New Delhi</td>\n",
       "      <td>3202</td>\n",
       "      <td>0.721</td>\n",
       "      <td>68.8</td>\n",
       "      <td>1367.09</td>\n",
       "    </tr>\n",
       "    <tr>\n",
       "      <th>3</th>\n",
       "      <td>China</td>\n",
       "      <td>Beijing</td>\n",
       "      <td>15270</td>\n",
       "      <td>0.964</td>\n",
       "      <td>76.4</td>\n",
       "      <td>1415.05</td>\n",
       "    </tr>\n",
       "    <tr>\n",
       "      <th>4</th>\n",
       "      <td>South Africa</td>\n",
       "      <td>Pretoria</td>\n",
       "      <td>370</td>\n",
       "      <td>0.943</td>\n",
       "      <td>63.6</td>\n",
       "      <td>57.40</td>\n",
       "    </tr>\n",
       "  </tbody>\n",
       "</table>\n",
       "</div>"
      ],
      "text/plain": [
       "        country    capital    gdp  literacy  expectancy  population\n",
       "0        Brazil   Brasilia   2750     0.944        76.8      210.87\n",
       "1        Russia     Moscow   1658     0.997        72.7      143.96\n",
       "2         India  New Delhi   3202     0.721        68.8     1367.09\n",
       "3         China    Beijing  15270     0.964        76.4     1415.05\n",
       "4  South Africa   Pretoria    370     0.943        63.6       57.40"
      ]
     },
     "execution_count": 12,
     "metadata": {},
     "output_type": "execute_result"
    }
   ],
   "source": [
    "brics5 = pd.read_excel(\"brics.xlsx\")\n",
    "brics5"
   ]
  },
  {
   "cell_type": "code",
   "execution_count": 15,
   "metadata": {},
   "outputs": [
    {
     "data": {
      "text/html": [
       "<div>\n",
       "<style scoped>\n",
       "    .dataframe tbody tr th:only-of-type {\n",
       "        vertical-align: middle;\n",
       "    }\n",
       "\n",
       "    .dataframe tbody tr th {\n",
       "        vertical-align: top;\n",
       "    }\n",
       "\n",
       "    .dataframe thead th {\n",
       "        text-align: right;\n",
       "    }\n",
       "</style>\n",
       "<table border=\"1\" class=\"dataframe\">\n",
       "  <thead>\n",
       "    <tr style=\"text-align: right;\">\n",
       "      <th></th>\n",
       "      <th>summit</th>\n",
       "      <th>date</th>\n",
       "      <th>host</th>\n",
       "      <th>leader</th>\n",
       "      <th>location</th>\n",
       "    </tr>\n",
       "  </thead>\n",
       "  <tbody>\n",
       "    <tr>\n",
       "      <th>0</th>\n",
       "      <td>1st</td>\n",
       "      <td>June 16th, 2009</td>\n",
       "      <td>Russia</td>\n",
       "      <td>Dmitry Medvedev</td>\n",
       "      <td>Yekaterinburg (Sevastianov's House)</td>\n",
       "    </tr>\n",
       "    <tr>\n",
       "      <th>1</th>\n",
       "      <td>2nd</td>\n",
       "      <td>April 15th, 2010</td>\n",
       "      <td>Brazil</td>\n",
       "      <td>Luiz Inácio Lula da Silva</td>\n",
       "      <td>Brasília (Itamaraty Palace)</td>\n",
       "    </tr>\n",
       "    <tr>\n",
       "      <th>2</th>\n",
       "      <td>3rd</td>\n",
       "      <td>April 14th, 2011</td>\n",
       "      <td>China</td>\n",
       "      <td>Hu Jintao</td>\n",
       "      <td>Sanya (Sheraton Sanya Resort)</td>\n",
       "    </tr>\n",
       "    <tr>\n",
       "      <th>3</th>\n",
       "      <td>4th</td>\n",
       "      <td>March 29th, 2012</td>\n",
       "      <td>India</td>\n",
       "      <td>Manmohan Singh</td>\n",
       "      <td>New Delhi (Taj Mahal Hotel)</td>\n",
       "    </tr>\n",
       "    <tr>\n",
       "      <th>4</th>\n",
       "      <td>5th</td>\n",
       "      <td>March 26th – 27th, 2013</td>\n",
       "      <td>South Africa</td>\n",
       "      <td>Jacob Zuma</td>\n",
       "      <td>Durban (Durban ICC)</td>\n",
       "    </tr>\n",
       "    <tr>\n",
       "      <th>5</th>\n",
       "      <td>6th</td>\n",
       "      <td>July 14th – 17th, 2014</td>\n",
       "      <td>Brazil</td>\n",
       "      <td>Dilma Rousseff</td>\n",
       "      <td>Fortaleza (Centro de Eventos do Ceará)</td>\n",
       "    </tr>\n",
       "    <tr>\n",
       "      <th>6</th>\n",
       "      <td>7th</td>\n",
       "      <td>July 8th – 9th, 2015</td>\n",
       "      <td>Russia</td>\n",
       "      <td>Vladimir Putin</td>\n",
       "      <td>Ufa (Congress Hall)</td>\n",
       "    </tr>\n",
       "    <tr>\n",
       "      <th>7</th>\n",
       "      <td>8th</td>\n",
       "      <td>October 15th – 16th, 2016</td>\n",
       "      <td>India</td>\n",
       "      <td>Narendra Modi</td>\n",
       "      <td>Benaulim (Taj Exotica)</td>\n",
       "    </tr>\n",
       "    <tr>\n",
       "      <th>8</th>\n",
       "      <td>9th</td>\n",
       "      <td>September 3th – 5th, 2017</td>\n",
       "      <td>China</td>\n",
       "      <td>Xi Jinping</td>\n",
       "      <td>Xiamen (Xiamen International Conference Center)</td>\n",
       "    </tr>\n",
       "    <tr>\n",
       "      <th>9</th>\n",
       "      <td>10th</td>\n",
       "      <td>July 25th – 27th, 2018</td>\n",
       "      <td>South Africa</td>\n",
       "      <td>Cyril Ramaphosa</td>\n",
       "      <td>Johannesburg (Sandton Convention Centre)</td>\n",
       "    </tr>\n",
       "    <tr>\n",
       "      <th>10</th>\n",
       "      <td>11th</td>\n",
       "      <td>November 13th – 14th, 2019</td>\n",
       "      <td>Brazil</td>\n",
       "      <td>Jair Bolsonaro</td>\n",
       "      <td>Brasília (Itamaraty Palace)</td>\n",
       "    </tr>\n",
       "    <tr>\n",
       "      <th>11</th>\n",
       "      <td>12th</td>\n",
       "      <td>November 17th, 2020</td>\n",
       "      <td>Russia</td>\n",
       "      <td>Vladimir Putin</td>\n",
       "      <td>Saint Petersburg (video conference)</td>\n",
       "    </tr>\n",
       "    <tr>\n",
       "      <th>12</th>\n",
       "      <td>13th</td>\n",
       "      <td>TBA</td>\n",
       "      <td>India</td>\n",
       "      <td>Narendra Modi</td>\n",
       "      <td>New Delhi</td>\n",
       "    </tr>\n",
       "  </tbody>\n",
       "</table>\n",
       "</div>"
      ],
      "text/plain": [
       "   summit                        date          host  \\\n",
       "0     1st             June 16th, 2009        Russia   \n",
       "1     2nd            April 15th, 2010        Brazil   \n",
       "2     3rd            April 14th, 2011         China   \n",
       "3     4th            March 29th, 2012         India   \n",
       "4     5th     March 26th – 27th, 2013  South Africa   \n",
       "5     6th      July 14th – 17th, 2014        Brazil   \n",
       "6     7th        July 8th – 9th, 2015        Russia   \n",
       "7     8th   October 15th – 16th, 2016         India   \n",
       "8     9th   September 3th – 5th, 2017         China   \n",
       "9    10th      July 25th – 27th, 2018  South Africa   \n",
       "10   11th  November 13th – 14th, 2019        Brazil   \n",
       "11   12th         November 17th, 2020        Russia   \n",
       "12   13th                         TBA         India   \n",
       "\n",
       "                       leader                                         location  \n",
       "0             Dmitry Medvedev              Yekaterinburg (Sevastianov's House)  \n",
       "1   Luiz Inácio Lula da Silva                      Brasília (Itamaraty Palace)  \n",
       "2                   Hu Jintao                    Sanya (Sheraton Sanya Resort)  \n",
       "3              Manmohan Singh                      New Delhi (Taj Mahal Hotel)  \n",
       "4                  Jacob Zuma                              Durban (Durban ICC)  \n",
       "5              Dilma Rousseff           Fortaleza (Centro de Eventos do Ceará)  \n",
       "6              Vladimir Putin                              Ufa (Congress Hall)  \n",
       "7               Narendra Modi                           Benaulim (Taj Exotica)  \n",
       "8                  Xi Jinping  Xiamen (Xiamen International Conference Center)  \n",
       "9             Cyril Ramaphosa         Johannesburg (Sandton Convention Centre)  \n",
       "10             Jair Bolsonaro                      Brasília (Itamaraty Palace)  \n",
       "11             Vladimir Putin              Saint Petersburg (video conference)  \n",
       "12              Narendra Modi                                        New Delhi  "
      ]
     },
     "execution_count": 15,
     "metadata": {},
     "output_type": "execute_result"
    }
   ],
   "source": [
    "brics6 = pd.read_excel(\"brics.xlsx\" , sheet_name = \"Summits\")\n",
    "brics6"
   ]
  },
  {
   "cell_type": "code",
   "execution_count": null,
   "metadata": {},
   "outputs": [],
   "source": []
  }
 ],
 "metadata": {
  "kernelspec": {
   "display_name": "Python 3 (ipykernel)",
   "language": "python",
   "name": "python3"
  },
  "language_info": {
   "codemirror_mode": {
    "name": "ipython",
    "version": 3
   },
   "file_extension": ".py",
   "mimetype": "text/x-python",
   "name": "python",
   "nbconvert_exporter": "python",
   "pygments_lexer": "ipython3",
   "version": "3.11.4"
  }
 },
 "nbformat": 4,
 "nbformat_minor": 4
}
