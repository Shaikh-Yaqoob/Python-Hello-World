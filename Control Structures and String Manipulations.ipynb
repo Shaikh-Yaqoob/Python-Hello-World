{
 "cells": [
  {
   "cell_type": "code",
   "execution_count": 1,
   "id": "63be4439-5f0a-4d77-9b82-ff4a651bff6f",
   "metadata": {},
   "outputs": [
    {
     "name": "stdin",
     "output_type": "stream",
     "text": [
      "Enter a number:  2\n"
     ]
    },
    {
     "name": "stdout",
     "output_type": "stream",
     "text": [
      "The positive number entered is: 2\n"
     ]
    }
   ],
   "source": [
    "num = int(input(\"Enter a number: \"))\n",
    "if num < 0:\n",
    "    print(\"Please input a positive number\")\n",
    "else:\n",
    "    print(\"The positive number entered is:\", num)"
   ]
  },
  {
   "cell_type": "code",
   "execution_count": 3,
   "id": "36c891f9-808a-4051-8608-4976ba3994d5",
   "metadata": {},
   "outputs": [
    {
     "name": "stdin",
     "output_type": "stream",
     "text": [
      "Enter a number:  -2\n"
     ]
    },
    {
     "name": "stdout",
     "output_type": "stream",
     "text": [
      "The number is negative\n"
     ]
    }
   ],
   "source": [
    "num = int(input(\"Enter a number: \"))\n",
    "if num >= 0:\n",
    "    print(\"The number is positive\")\n",
    "else:\n",
    "    print(\"The number is negative\")\n"
   ]
  },
  {
   "cell_type": "code",
   "execution_count": 4,
   "id": "15b2be2c-c519-4b96-b9f6-c807db5ef89c",
   "metadata": {},
   "outputs": [
    {
     "name": "stdin",
     "output_type": "stream",
     "text": [
      "Enter a number:  0\n"
     ]
    },
    {
     "name": "stdout",
     "output_type": "stream",
     "text": [
      "The number is zero\n"
     ]
    }
   ],
   "source": [
    "num = int(input(\"Enter a number: \"))\n",
    "if num > 0:\n",
    "    print(\"The number is positive\")\n",
    "elif num < 0:\n",
    "    print(\"The number is negative\")\n",
    "else:\n",
    "    print(\"The number is zero\")\n"
   ]
  },
  {
   "cell_type": "code",
   "execution_count": 5,
   "id": "87780f1a-d084-4fa3-bb4d-b8173fc43e8b",
   "metadata": {},
   "outputs": [
    {
     "name": "stdin",
     "output_type": "stream",
     "text": [
      "Enter the first number:  5\n",
      "Enter the second number:  2.5\n",
      "Enter the operation (+, -, *, /):  +\n"
     ]
    },
    {
     "name": "stdout",
     "output_type": "stream",
     "text": [
      "Result: 7.5\n"
     ]
    }
   ],
   "source": [
    "num1 = float(input(\"Enter the first number: \"))\n",
    "num2 = float(input(\"Enter the second number: \"))\n",
    "operation = input(\"Enter the operation (+, -, *, /): \")\n",
    "\n",
    "if operation == '+':\n",
    "    print(\"Result:\", num1 + num2)\n",
    "elif operation == '-':\n",
    "    print(\"Result:\", num1 - num2)\n",
    "elif operation == '*':\n",
    "    print(\"Result:\", num1 * num2)\n",
    "elif operation == '/':\n",
    "    if num2 != 0:\n",
    "        print(\"Result:\", num1 / num2)\n",
    "    else:\n",
    "        print(\"Cannot divide by zero\")\n",
    "else:\n",
    "    print(\"Invalid operation\")\n"
   ]
  },
  {
   "cell_type": "code",
   "execution_count": 7,
   "id": "c6f53bb0-2d37-4104-9d8b-bb733eb4c237",
   "metadata": {},
   "outputs": [
    {
     "name": "stdin",
     "output_type": "stream",
     "text": [
      "Enter a string:  ali\n",
      "Enter a substring to search for:  i\n"
     ]
    },
    {
     "name": "stdout",
     "output_type": "stream",
     "text": [
      "Substring found at index: 2\n"
     ]
    }
   ],
   "source": [
    "string = input(\"Enter a string: \")\n",
    "substring = input(\"Enter a substring to search for: \")\n",
    "\n",
    "index = 0\n",
    "while index < len(string):\n",
    "    index = string.find(substring, index)\n",
    "    if index == -1:\n",
    "        break\n",
    "    print(\"Substring found at index:\", index)\n",
    "    index += 1\n"
   ]
  },
  {
   "cell_type": "code",
   "execution_count": 9,
   "id": "6f2e44ea-2d13-4070-bb1b-ace75daafc12",
   "metadata": {},
   "outputs": [
    {
     "name": "stdin",
     "output_type": "stream",
     "text": [
      "Enter your name:  saqib\n"
     ]
    },
    {
     "name": "stdout",
     "output_type": "stream",
     "text": [
      "Menu:\n",
      "Enter 1 for calling .islower() method\n",
      "Enter 2 for calling .isupper() method\n",
      "Enter 3 for calling .lower() method\n"
     ]
    },
    {
     "name": "stdin",
     "output_type": "stream",
     "text": [
      "Enter your choice:  2\n"
     ]
    },
    {
     "name": "stdout",
     "output_type": "stream",
     "text": [
      "False\n"
     ]
    }
   ],
   "source": [
    "userName = input(\"Enter your name: \")\n",
    "print(\"Menu:\")\n",
    "print(\"Enter 1 for calling .islower() method\")\n",
    "print(\"Enter 2 for calling .isupper() method\")\n",
    "print(\"Enter 3 for calling .lower() method\")\n",
    "\n",
    "choice = int(input(\"Enter your choice: \"))\n",
    "if choice == 1:\n",
    "    print(userName.islower())\n",
    "elif choice == 2:\n",
    "    print(userName.isupper())\n",
    "elif choice == 3:\n",
    "    print(userName.lower())\n",
    "else:\n",
    "    print(\"Invalid choice\")\n"
   ]
  },
  {
   "cell_type": "code",
   "execution_count": 10,
   "id": "e7343dd3-4868-4f83-be98-ab0a99e5626a",
   "metadata": {},
   "outputs": [
    {
     "name": "stdin",
     "output_type": "stream",
     "text": [
      "Enter a string:  solangi\n"
     ]
    },
    {
     "name": "stdout",
     "output_type": "stream",
     "text": [
      "Middle character: a\n"
     ]
    }
   ],
   "source": [
    "string = input(\"Enter a string: \")\n",
    "length = len(string)\n",
    "if length % 2 == 0:\n",
    "    middle = length // 2\n",
    "    print(\"Middle characters:\", string[middle - 1:middle + 1])\n",
    "else:\n",
    "    middle = length // 2\n",
    "    print(\"Middle character:\", string[middle])\n"
   ]
  },
  {
   "cell_type": "code",
   "execution_count": null,
   "id": "f41d08b5-fed3-4ae5-ab52-3f58d0a1c18d",
   "metadata": {},
   "outputs": [],
   "source": []
  }
 ],
 "metadata": {
  "kernelspec": {
   "display_name": "Python 3 (ipykernel)",
   "language": "python",
   "name": "python3"
  },
  "language_info": {
   "codemirror_mode": {
    "name": "ipython",
    "version": 3
   },
   "file_extension": ".py",
   "mimetype": "text/x-python",
   "name": "python",
   "nbconvert_exporter": "python",
   "pygments_lexer": "ipython3",
   "version": "3.11.7"
  }
 },
 "nbformat": 4,
 "nbformat_minor": 5
}
